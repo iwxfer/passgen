{
 "cells": [
  {
   "cell_type": "markdown",
   "metadata": {
    "application/vnd.databricks.v1+cell": {
     "cellMetadata": {},
     "inputWidgets": {},
     "nuid": "e002c72b-42c3-4a1a-ad90-70324f3cab9b",
     "showTitle": false,
     "title": ""
    }
   },
   "source": [
    "## Read and parse Log File\n",
    "\n",
    "Apache access log line example\n",
    "\n",
    "```\n",
    "13.66.139.0 - - [19/Dec/2020:13:57:26 +0100] \"GET /index.php?option=com_phocagallery&view=category&id=1:almhuette-raith&Itemid=53 HTTP/1.1\" 200 32653 \"-\" \"Mozilla/5.0 (compatible; bingbot/2.0; +http://www.bing.com/bingbot.htm)\" \"-\"\n",
    "```"
   ]
  },
  {
   "cell_type": "code",
   "execution_count": 0,
   "metadata": {
    "application/vnd.databricks.v1+cell": {
     "cellMetadata": {
      "byteLimit": 2048000,
      "rowLimit": 10000
     },
     "inputWidgets": {},
     "nuid": "9551c9e8-695d-4f13-9dc5-1b4fce0a645c",
     "showTitle": false,
     "title": ""
    }
   },
   "outputs": [
    {
     "output_type": "display_data",
     "data": {
      "text/html": [
       "<style scoped>\n",
       "  .ansiout {\n",
       "    display: block;\n",
       "    unicode-bidi: embed;\n",
       "    white-space: pre-wrap;\n",
       "    word-wrap: break-word;\n",
       "    word-break: break-all;\n",
       "    font-family: \"Source Code Pro\", \"Menlo\", monospace;;\n",
       "    font-size: 13px;\n",
       "    color: #555;\n",
       "    margin-left: 4px;\n",
       "    line-height: 19px;\n",
       "  }\n",
       "</style>\n",
       "<div class=\"ansiout\">import java.net.URL\n",
       "import java.io.File\n",
       "import org.apache.commons.io.FileUtils\n",
       "tmpFile: java.io.File = /tmp/access.log\n",
       "</div>"
      ]
     },
     "metadata": {
      "application/vnd.databricks.v1+output": {
       "addedWidgets": {},
       "arguments": {},
       "data": "<div class=\"ansiout\">import java.net.URL\nimport java.io.File\nimport org.apache.commons.io.FileUtils\ntmpFile: java.io.File = /tmp/access.log\n</div>",
       "datasetInfos": [],
       "metadata": {
        "isDbfsCommandResult": false
       },
       "removedWidgets": [],
       "type": "html"
      }
     },
     "output_type": "display_data"
    }
   ],
   "source": [
    "%scala\n",
    "import java.net.URL\n",
    "import java.io.File\n",
    "import org.apache.commons.io.FileUtils\n",
    " \n",
    "val tmpFile = new File(\"/tmp/access.log\")\n",
    "//FileUtils.copyURLToFile(new URL(\"https://raw.githubusercontent.com/bdbaraban/holberton-system_engineering-devops/master/0x04-loops_conditions_and_parsing/apache-access.log\"), tmpFile)\n",
    "FileUtils.copyURLToFile(new URL(\"https://gist.githubusercontent.com/zxcfer/5518d2976a19889e9594ee3923612717/raw/9b1ac12041eda8e23378b01ad0554e93d89e0450/accesslog\"), tmpFile)"
   ]
  },
  {
   "cell_type": "code",
   "execution_count": 0,
   "metadata": {
    "application/vnd.databricks.v1+cell": {
     "cellMetadata": {
      "byteLimit": 2048000,
      "rowLimit": 10000
     },
     "inputWidgets": {},
     "nuid": "2b303086-f68b-46c1-a80f-cbb59376176b",
     "showTitle": false,
     "title": ""
    }
   },
   "outputs": [
    {
     "output_type": "stream",
     "name": "stdout",
     "output_type": "stream",
     "text": [
      "+---------------+------------+------+--------------------+------+--------------------+--------+------------+------+\n|      ipAddress|clientIdentd|userId|            dateTime|method|            endpoint|protocol|responseCode| trail|\n+---------------+------------+------+--------------------+------+--------------------+--------+------------+------+\n| 195.154.172.53|           -|     -|09/Feb/2016:09:40...|   GET|/wp-content/theme...|HTTP/1.1|         200|   437|\n| 195.154.172.59|           -|     -|09/Feb/2016:09:40...|   GET|/wp-content/plugi...|HTTP/1.1|         200|   505|\n| 195.154.172.59|           -|     -|09/Feb/2016:09:40...|   GET|/wordpress/wp-con...|HTTP/1.1|         200|  5144|\n| 195.154.172.59|           -|     -|09/Feb/2016:09:40...|   GET|/wp-content/theme...|HTTP/1.1|         200|   438|\n| 195.154.172.59|           -|     -|09/Feb/2016:09:40...|   GET|/wp-content/uploa...|HTTP/1.1|         200|768386|\n|195.154.233.224|           -|     -|09/Feb/2016:09:40...|   GET|/wp-content/plugi...|HTTP/1.1|         200|   868|\n|195.154.233.224|           -|     -|09/Feb/2016:09:40...|   GET|/wp-content/uploa...|HTTP/1.1|         200|  1964|\n|195.154.233.224|           -|     -|09/Feb/2016:09:40...|   GET|/wp-content/theme...|HTTP/1.1|         200|  4390|\n|  130.0.236.153|           -|     -|09/Feb/2016:09:42...|  POST|         /xmlrpc.php|HTTP/1.1|         200|   456|\n|  130.0.236.153|           -|     -|09/Feb/2016:09:48...|  POST|         /xmlrpc.php|HTTP/1.1|         200|   456|\n+---------------+------------+------+--------------------+------+--------------------+--------+------------+------+\nonly showing top 10 rows\n\n"
     ]
    }
   ],
   "source": [
    "import re\n",
    "from pyspark.sql import Row\n",
    "\n",
    "APACHE_ACCESS_LOG_PATTERN = '^(\\S+) (\\S+) (\\S+) \\[([\\w:/]+\\s[+\\-]\\d{4})\\] \"(\\S+) (\\S+) (\\S+)\" (\\d{3}) (\\d+)'\n",
    "\n",
    "# Parse to dictionary\n",
    "def parse_apache_log_line(logline):\n",
    "    try:\n",
    "        match = re.search(APACHE_ACCESS_LOG_PATTERN, logline)\n",
    "        if match is None:\n",
    "            # Optionally, you can change this to just ignore if each line of data is not critical.\n",
    "            # For this example, we want to ensure that the format is consistent.\n",
    "            raise Exception(\"Invalid logline: %s\" % logline)\n",
    "        return Row(\n",
    "            ipAddress    = match.group(1),\n",
    "            clientIdentd = match.group(2),\n",
    "            userId       = match.group(3),\n",
    "            dateTime     = match.group(4),\n",
    "            method       = match.group(5),\n",
    "            endpoint     = match.group(6),\n",
    "            protocol     = match.group(7),\n",
    "            responseCode = int(match.group(8)),\n",
    "            trail        = match.group(9)\n",
    "            )\n",
    "    except:\n",
    "        print('err')\n",
    "        \n",
    "\n",
    "raw_log_files = sc.textFile(\"file:/tmp/access.log\")\n",
    "raw_log_files.count()\n",
    "\n",
    "parsed_log_files = raw_log_files.map(parse_apache_log_line)\n",
    "df = parsed_log_files.toDF()\n",
    "df.show(10)\n",
    "\n",
    "df.createOrReplaceTempView (\"log_data\")"
   ]
  },
  {
   "cell_type": "markdown",
   "metadata": {
    "application/vnd.databricks.v1+cell": {
     "cellMetadata": {},
     "inputWidgets": {},
     "nuid": "c88733a9-a493-4613-aa90-cdf05a9942bd",
     "showTitle": false,
     "title": ""
    }
   },
   "source": [
    "## Statistics"
   ]
  },
  {
   "cell_type": "code",
   "execution_count": 0,
   "metadata": {
    "application/vnd.databricks.v1+cell": {
     "cellMetadata": {
      "byteLimit": 2048000,
      "implicitDf": true,
      "rowLimit": 10000
     },
     "inputWidgets": {},
     "nuid": "6d84d576-8141-4f75-8587-7070e0a8f725",
     "showTitle": false,
     "title": ""
    }
   },
   "outputs": [
    {
     "output_type": "display_data",
     "data": {
      "text/html": [
       "<style scoped>\n",
       "  .table-result-container {\n",
       "    max-height: 300px;\n",
       "    overflow: auto;\n",
       "  }\n",
       "  table, th, td {\n",
       "    border: 1px solid black;\n",
       "    border-collapse: collapse;\n",
       "  }\n",
       "  th, td {\n",
       "    padding: 5px;\n",
       "  }\n",
       "  th {\n",
       "    text-align: left;\n",
       "  }\n",
       "</style><div class='table-result-container'><table class='table-result'><thead style='background-color: white'><tr><th>total</th><th>responseCode</th></tr></thead><tbody><tr><td>45</td><td>304</td></tr><tr><td>30</td><td>404</td></tr><tr><td>15</td><td>301</td></tr><tr><td>530</td><td>200</td></tr><tr><td>1</td><td>400</td></tr></tbody></table></div>"
      ]
     },
     "metadata": {
      "application/vnd.databricks.v1+output": {
       "addedWidgets": {},
       "aggData": [],
       "aggError": "",
       "aggOverflow": false,
       "aggSchema": [],
       "aggSeriesLimitReached": false,
       "aggType": "",
       "arguments": {},
       "columnCustomDisplayInfos": {},
       "data": [
        [
         45,
         304
        ],
        [
         30,
         404
        ],
        [
         15,
         301
        ],
        [
         530,
         200
        ],
        [
         1,
         400
        ]
       ],
       "datasetInfos": [],
       "dbfsResultPath": null,
       "isJsonSchema": true,
       "metadata": {},
       "overflow": false,
       "plotOptions": {
        "customPlotOptions": {},
        "displayType": "table",
        "pivotAggregation": null,
        "pivotColumns": null,
        "xColumns": null,
        "yColumns": null
       },
       "removedWidgets": [],
       "schema": [
        {
         "metadata": "{}",
         "name": "total",
         "type": "\"long\""
        },
        {
         "metadata": "{}",
         "name": "responseCode",
         "type": "\"long\""
        }
       ],
       "type": "table"
      }
     },
     "output_type": "display_data"
    },
    {
     "output_type": "display_data",
     "data": {
      "text/plain": [
       "Output can only be rendered in Databricks"
      ]
     },
     "metadata": {
      "application/vnd.databricks.v1.subcommand+json": {
       "bindings": {},
       "collapsed": false,
       "command": "%sql WITH q AS (SELECT count(*) as total, responseCode FROM log_data group by responseCode) SELECT `responseCode`,SUM(`total`) `column_be0246256` FROM q GROUP BY `responseCode`",
       "commandTitle": "ResponseCode",
       "commandType": "auto",
       "commandVersion": 0,
       "commentThread": [],
       "commentsVisible": false,
       "contentSha256Hex": null,
       "customPlotOptions": {
        "redashChart": [
         {
          "key": "type",
          "value": "CHART"
         },
         {
          "key": "options",
          "value": {
           "alignYAxesAtZero": true,
           "coefficient": 1,
           "columnConfigurationMap": {
            "x": {
             "column": "responseCode",
             "id": "column_be0246257"
            },
            "y": [
             {
              "column": "total",
              "id": "column_be0246256",
              "transform": "SUM"
             }
            ]
           },
           "dateTimeFormat": "DD/MM/YYYY HH:mm",
           "direction": {
            "type": "counterclockwise"
           },
           "error_y": {
            "type": "data",
            "visible": true
           },
           "globalSeriesType": "pie",
           "isAggregationOn": true,
           "legend": {
            "traceorder": "normal"
           },
           "missingValuesAsZero": true,
           "numberFormat": "0,0[.]00000",
           "percentFormat": "0[.]00%",
           "series": {
            "error_y": {
             "type": "data",
             "visible": true
            },
            "stacking": null
           },
           "seriesOptions": {
            "column_be0246256": {
             "name": "responseCode",
             "type": "pie",
             "yAxis": 0
            }
           },
           "showDataLabels": true,
           "sizemode": "diameter",
           "sortX": true,
           "sortY": true,
           "swappedAxes": false,
           "textFormat": "",
           "useAggregationsUi": true,
           "valuesOptions": {},
           "version": 2,
           "xAxis": {
            "labels": {
             "enabled": true
            },
            "type": "-"
           },
           "yAxis": [
            {
             "type": "-"
            },
            {
             "opposite": true,
             "type": "-"
            }
           ]
          }
         }
        ]
       },
       "datasetPreviewNameToCmdIdMap": {},
       "diffDeletes": [],
       "diffInserts": [],
       "displayType": "redashChart",
       "error": null,
       "errorSummary": null,
       "errorTraceType": null,
       "finishTime": 0,
       "globalVars": {},
       "guid": "feab797a-2855-4415-8085-65405776c877",
       "height": "auto",
       "hideCommandCode": false,
       "hideCommandResult": false,
       "iPythonMetadata": null,
       "inputWidgets": {},
       "isLockedInExamMode": false,
       "latestUser": "a user",
       "latestUserId": null,
       "listResultMetadata": null,
       "metadata": {},
       "nuid": "48b87ade-f953-4858-8ba7-d1c3f14e36a0",
       "origId": 902023380303687,
       "parentHierarchy": [
        "bf189ea0-b78d-431f-a676-a09e1d7eae99"
       ],
       "pivotAggregation": null,
       "pivotColumns": null,
       "position": 4.25,
       "resultDbfsErrorMessage": null,
       "resultDbfsStatus": "INLINED_IN_TREE",
       "results": null,
       "showCommandTitle": false,
       "startTime": 0,
       "state": "input",
       "streamStates": {},
       "subcommandOptions": {
        "queryPlan": {
         "groups": [
          {
           "column": "responseCode",
           "type": "column"
          }
         ],
         "selects": [
          {
           "column": "responseCode",
           "type": "column"
          },
          {
           "alias": "column_be0246256",
           "args": [
            {
             "column": "total",
             "type": "column"
            }
           ],
           "function": "SUM",
           "type": "function"
          }
         ]
        }
       },
       "submitTime": 0,
       "subtype": "tableResultSubCmd.visualization",
       "tableResultIndex": 0,
       "useConsistentColors": false,
       "version": "CommandV1",
       "width": "auto",
       "workflows": [],
       "xColumns": null,
       "yColumns": null
      }
     },
     "output_type": "display_data"
    }
   ],
   "source": [
    "%sql\n",
    "SELECT count(*) as total, responseCode FROM log_data group by responseCode"
   ]
  }
 ],
 "metadata": {
  "application/vnd.databricks.v1+notebook": {
   "dashboards": [],
   "language": "python",
   "notebookMetadata": {
    "mostRecentlyExecutedCommandWithImplicitDF": {
     "commandId": 902023380303682,
     "dataframes": [
      "_sqldf"
     ]
    },
    "pythonIndentUnit": 4
   },
   "notebookName": "Log Analyzer",
   "notebookOrigID": 902023380303675,
   "widgets": {}
  }
 },
 "nbformat": 4,
 "nbformat_minor": 0
}
